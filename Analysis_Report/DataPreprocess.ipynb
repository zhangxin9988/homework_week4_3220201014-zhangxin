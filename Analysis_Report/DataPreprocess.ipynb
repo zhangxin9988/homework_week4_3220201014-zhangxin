{
 "cells": [
  {
   "cell_type": "markdown",
   "metadata": {},
   "source": [
    "# Wine Reviews数据集"
   ]
  },
  {
   "cell_type": "markdown",
   "metadata": {},
   "source": [
    "#1数据可视化与摘要"
   ]
  },
  {
   "cell_type": "markdown",
   "metadata": {},
   "source": [
    "##1.1数据摘要\n",
    "在数据集Wine Reviews中，winemag-data_first150k文件中，共有10个属性，其中标称属性有：country、description、designation、province、region、region_2、variety、winery；数值属性有：points、price。"
   ]
  },
  {
   "cell_type": "markdown",
   "metadata": {},
   "source": [
    "   对于标称属性，将每个属性的频数按照从大到小排序，因为每个属性中的类别较多，我们在此取标称属性频数较大的前5项作为展示。输出如下所示，每列属性的频数统计输出为一个列表.从中可以看出null值比较多。"
   ]
  },
  {
   "cell_type": "code",
   "execution_count": 39,
   "metadata": {},
   "outputs": [
    {
     "name": "stdout",
     "output_type": "stream",
     "text": [
      "属性的值和频数如下所示：\n",
      "[('US', 62397), ('Italy', 23478), ('France', 21098), ('Spain', 8268), ('Chile', 5816)]\n",
      "[('92-94 Barrel sample. A rounded wine, its tannins submerged into the ripe fruits. It feels soft, and there is just a bite of alcohol. The structure is soft, generous, opulent.', 6), (\"86-88 This could work as a rich wine, because there is good structure and piles of botrytis. It could be delicious, with its lovely dry finish, but that's for the future.\", 6), ('Powerful in Zinny character, this blend of Dry Creek and Russian River grapes bursts with brawny flavors of wild berries, chocolate-covered mint, tobacco and pepper, wrapped into sturdy tannins. Shows real class and character.', 6), ('A little bit funky and unsettled when you pop the screwcap, but soon it finds its floral, blueberry base. Remains superficial and sweet in the mouth, with candied flavors, vanilla and mild oak. Highly regular; could use more concentration and density.', 6), (\"Gibilmoro, a pure expression of Nero d'Avola, sees some oak aging to shape aromas of toasted walnut, nutella and wood spice. In fact, not much of the natural fruit is left, and what is there feels jammy and ripe.\", 5)]\n",
      "[(nan, 45735), ('Reserve', 2752), ('Reserva', 1810), ('Estate', 1571), ('Barrel sample', 1326)]\n",
      "[(87, 20747), (88, 17871), (90, 15973), (86, 15573), (89, 12921)]\n",
      "[(20.0, 7860), (15.0, 7056), (18.0, 5988), (25.0, 5955), (30.0, 5449)]\n",
      "[('California', 44508), ('Washington', 9750), ('Tuscany', 7281), ('Bordeaux', 6111), ('Northern Spain', 4892)]\n",
      "[(nan, 25060), ('Napa Valley', 6209), ('Columbia Valley (WA)', 4975), ('Mendoza', 3586), ('Russian River Valley', 3571)]\n",
      "[(nan, 89977), ('Central Coast', 13057), ('Sonoma', 11258), ('Columbia Valley', 9157), ('Napa', 8801)]\n",
      "[('Chardonnay', 14482), ('Pinot Noir', 14291), ('Cabernet Sauvignon', 12800), ('Red Blend', 10062), ('Bordeaux-style Red Blend', 7347)]\n",
      "[('Williams Selyem', 374), ('Testarossa', 274), ('DFJ Vinhos', 258), ('Chateau Ste. Michelle', 225), ('Columbia Crest', 217)]\n"
     ]
    }
   ],
   "source": [
    "import pandas as pd\n",
    "import numpy as np\n",
    "from collections import Counter\n",
    "import matplotlib.pyplot as plt\n",
    "\n",
    "path = 'C:\\学习\\办公\\研究生课程\\研一第二学期课程\\数据挖掘\\第4周课后作业-3220201014-张鑫\\wine-reviews\\winemag-data_first150k.csv'\n",
    "wine_data = pd.read_csv(path, header=0, index_col=0, engine='python', encoding='utf-8')\n",
    "wine_data = wine_data.values\n",
    "print('属性的值和频数如下所示：')\n",
    "for i in range(wine_data.shape[1]):  # 对所有列进行频数的统计\n",
    "    counter = Counter(wine_data[:, i])\n",
    "    print(counter.most_common(5))  # 取前5项"
   ]
  },
  {
   "cell_type": "markdown",
   "metadata": {},
   "source": [
    "   对于数值属性，points的五数概括为80、86、88、90、100，缺失值的个数为0；price的五数概括为33.13、36.32、4.00、16.00、24.00、40.00、2300.00，缺失值的个数为13695。"
   ]
  },
  {
   "cell_type": "code",
   "execution_count": 2,
   "metadata": {
    "scrolled": true
   },
   "outputs": [
    {
     "name": "stdout",
     "output_type": "stream",
     "text": [
      "              points          price\n",
      "count  150930.000000  137235.000000\n",
      "mean       87.888418      33.131482\n",
      "std         3.222392      36.322536\n",
      "min        80.000000       4.000000\n",
      "25%        86.000000      16.000000\n",
      "50%        88.000000      24.000000\n",
      "75%        90.000000      40.000000\n",
      "max       100.000000    2300.000000\n"
     ]
    }
   ],
   "source": [
    "import pandas as pd\n",
    "import numpy as np\n",
    "from collections import Counter\n",
    "import matplotlib.pyplot as plt\n",
    "\n",
    "path = 'C:\\学习\\办公\\研究生课程\\研一第二学期课程\\数据挖掘\\第4周课后作业-3220201014-张鑫\\wine-reviews\\winemag-data_first150k.csv'\n",
    "wine_data = pd.read_csv(path, header=0, index_col=0, engine='python', encoding='utf-8')\n",
    "print(wine_data.describe())  # 五数概括、有效个数、平均值等"
   ]
  },
  {
   "cell_type": "markdown",
   "metadata": {},
   "source": [
    "##1.2数据可视化\n",
    "   使用盒图和直方图进行数据的可视化。因为属性较多，此处我们以属性points和price为例进行分析。\n",
    "   对于属性points，盒图和直方图如下所示，可以看到，存在离群点，并且大部分数据分布在80~90之间。"
   ]
  },
  {
   "cell_type": "code",
   "execution_count": 1,
   "metadata": {},
   "outputs": [
    {
     "data": {
      "image/png": "[encoded data removed]",
      "text/plain": [
       "<Figure size 432x288 with 1 Axes>"
      ]
     },
     "metadata": {
      "needs_background": "light"
     },
     "output_type": "display_data"
    },
    {
     "data": {
      "image/png": "[encoded data removed]",
      "text/plain": [
       "<Figure size 432x288 with 1 Axes>"
      ]
     },
     "metadata": {
      "needs_background": "light"
     },
     "output_type": "display_data"
    }
   ],
   "source": [
    "import pandas as pd\n",
    "import numpy as np\n",
    "from collections import Counter\n",
    "import matplotlib.pyplot as plt\n",
    "plt.rcParams['font.sans-serif'] = ['SimHei']  \n",
    "plt.rcParams['axes.unicode_minus'] = False  \n",
    "\n",
    "path = 'C:\\学习\\办公\\研究生课程\\研一第二学期课程\\数据挖掘\\第4周课后作业-3220201014-张鑫\\wine-reviews\\winemag-data_first150k.csv'\n",
    "wine_data = pd.read_csv(path, header=0, index_col=0, engine='python', encoding='utf-8')\n",
    "wine_data['points'].plot.box(title=\"数据可视化\")\n",
    "plt.grid(linestyle=\"--\")\n",
    "plt.show()\n",
    "plt.hist(x=wine_data['points'], bins=10, edgecolor='black',color='red')\n",
    "plt.xlabel('points')\n",
    "plt.ylabel('频数')\n",
    "plt.title('直方图')\n",
    "plt.show()"
   ]
  },
  {
   "cell_type": "markdown",
   "metadata": {},
   "source": [
    "   对于属性price，盒图如下所示，可以看到，存在较多离群点；"
   ]
  },
  {
   "cell_type": "code",
   "execution_count": 5,
   "metadata": {
    "scrolled": true
   },
   "outputs": [
    {
     "data": {
      "image/png": "[encoded data removed]",
      "text/plain": [
       "<Figure size 432x288 with 1 Axes>"
      ]
     },
     "metadata": {},
     "output_type": "display_data"
    }
   ],
   "source": [
    "import pandas as pd\n",
    "import numpy as np\n",
    "from collections import Counter\n",
    "import matplotlib.pyplot as plt\n",
    "plt.rcParams['font.sans-serif'] = ['SimHei']  \n",
    "plt.rcParams['axes.unicode_minus'] = False  \n",
    "\n",
    "path = 'C:/Users/xue/Desktop/课程_研一下/数据挖掘/课后作业/4/wine-reviews/winemag-data_first150k.csv'\n",
    "wine_data = pd.read_csv(path, header=0, index_col=0, engine='python', encoding='utf-8')\n",
    "wine_data['price'].plot.box(title=\"数据可视化\")\n",
    "plt.grid(linestyle=\"--\")\n",
    "plt.show()"
   ]
  },
  {
   "cell_type": "markdown",
   "metadata": {},
   "source": [
    "属性price中存在缺失值，直方图如下所示，列出了price中频数最高的前10项。"
   ]
  },
  {
   "cell_type": "code",
   "execution_count": 2,
   "metadata": {},
   "outputs": [
    {
     "data": {
      "image/png": "[encoded data removed]",
      "text/plain": [
       "<Figure size 432x288 with 1 Axes>"
      ]
     },
     "metadata": {
      "needs_background": "light"
     },
     "output_type": "display_data"
    }
   ],
   "source": [
    "# -*- coding: utf-8 -*-\n",
    "import matplotlib.pyplot as plt\n",
    "\n",
    "plt.rcParams['font.sans-serif'] = ['SimHei']  # 用来正常显示中文标签\n",
    "plt.rcParams['axes.unicode_minus'] = False  # 用来正常显示负号\n",
    "fig, ax = plt.subplots()\n",
    "num_list = [7860, 7056, 5988, 5955, 5449, 5255, 4950, 4479, 4273, 4194]\n",
    "name_list = ['20.0', '15.0', '18.0', '25.0', '30.0', '10.0', '12.0', '13.0', '16.0', '35.0']\n",
    "b = ax.bar(name_list, num_list)\n",
    "plt.bar(range(len(num_list)), num_list, color='red', tick_label=name_list)\n",
    "for a, b in zip(name_list, num_list):\n",
    "    ax.text(a, b + 1, b, ha='center', va='bottom')\n",
    "plt.title('补全前')\n",
    "plt.xlabel('price')\n",
    "plt.ylabel('频数')\n",
    "plt.show()\n"
   ]
  },
  {
   "cell_type": "markdown",
   "metadata": {},
   "source": [
    "#2数据缺失的处理\n",
    "#2.1剔除缺失值\n",
    "将存在缺失值的行进行剔除，结果如下所示，剔除后仅剩余39241行，说明有大量的数据行中存在缺失值。\n",
    "剔除缺失值后，以属性price的频数最大的前10项的直方图为例，可以看到，各个值的频数都有了明显的减少，并且排序也发生了明显变化。"
   ]
  },
  {
   "cell_type": "code",
   "execution_count": 4,
   "metadata": {},
   "outputs": [
    {
     "name": "stdout",
     "output_type": "stream",
     "text": [
      "剔除后总数据量：39241\n"
     ]
    },
    {
     "data": {
      "image/png": "[encoded data removed]",
      "text/plain": [
       "<Figure size 432x288 with 1 Axes>"
      ]
     },
     "metadata": {
      "needs_background": "light"
     },
     "output_type": "display_data"
    }
   ],
   "source": [
    "import pandas as pd\n",
    "import numpy as np\n",
    "from collections import Counter\n",
    "import matplotlib.pyplot as plt\n",
    "plt.rcParams['font.sans-serif'] = ['SimHei']  \n",
    "plt.rcParams['axes.unicode_minus'] = False  \n",
    "path = 'C:\\学习\\办公\\研究生课程\\研一第二学期课程\\数据挖掘\\第4周课后作业-3220201014-张鑫\\wine-reviews\\winemag-data_first150k.csv'\n",
    "\n",
    "def draw(data):\n",
    "    num = 10\n",
    "    wine_data = data.values\n",
    "    counter = Counter(wine_data[:, 4])\n",
    "    frequency = counter.most_common()  # 取前n项\n",
    "    num_list = []\n",
    "    name_list = []\n",
    "    for i in range(num):\n",
    "        num_list.append(int(frequency[i][1]))\n",
    "        name_list.append(str(frequency[i][0]))\n",
    "    fig, ax = plt.subplots()\n",
    "    b = ax.bar(name_list, num_list)\n",
    "    plt.bar(range(len(num_list)), num_list, color='red', tick_label=name_list)\n",
    "    for a, b in zip(name_list, num_list):\n",
    "        ax.text(a, b + 1, b, ha='center', va='bottom')\n",
    "    plt.title('剔除缺失值后')\n",
    "    plt.xlabel('price')\n",
    "    plt.ylabel('频数')\n",
    "    plt.show()\n",
    "    \n",
    "wine_data = pd.read_csv(path, header=0, index_col=0, engine='python', encoding='utf-8')\n",
    "wine_drop = wine_data.dropna()  # 将缺失值所在行剔除\n",
    "print('剔除后总数据量：'+str(wine_drop.shape[0]))\n",
    "draw(wine_drop)"
   ]
  },
  {
   "cell_type": "markdown",
   "metadata": {},
   "source": [
    "##2.2最高频率值填补\n",
    "对于存在缺失值的属性，使用该属性中频率最高的值进行填补。\n",
    "该数据集中共有10个属性，首先确定每个属性的频率最高的值。读取数据集，遍历数据集的每个属性，根据属性的值的频数进行排序，最大频数即为最大频率，在遍历过程中，如果频数最高的值为缺失值，那么取下一个频数最高的值。最终将10个属性的最高频率的值存储在列表中。\n",
    "接下来将每个属性的缺失值替换为该属性频率最高的值。\n",
    "补全后以points和price属性为例可以看到，有效行数均为150930行，和数据集中的总行数相同。\n",
    "以最高频率值填补后，以属性price的频数最大的前10项的直方图为例，可以看到，price为20的频数大量增加，其余值的频数不变。"
   ]
  },
  {
   "cell_type": "code",
   "execution_count": 6,
   "metadata": {},
   "outputs": [
    {
     "name": "stdout",
     "output_type": "stream",
     "text": [
      "                   3              4\n",
      "count  150930.000000  150930.000000\n",
      "mean       87.888418      31.939966\n",
      "std         3.222392      34.840211\n",
      "min        80.000000       4.000000\n",
      "25%        86.000000      16.000000\n",
      "50%        88.000000      22.000000\n",
      "75%        90.000000      38.000000\n",
      "max       100.000000    2300.000000\n"
     ]
    },
    {
     "data": {
      "image/png": "[encoded data removed]",
      "text/plain": [
       "<Figure size 432x288 with 1 Axes>"
      ]
     },
     "metadata": {
      "needs_background": "light"
     },
     "output_type": "display_data"
    }
   ],
   "source": [
    "import pandas as pd\n",
    "import numpy as np\n",
    "from collections import Counter\n",
    "import matplotlib.pyplot as plt\n",
    "plt.rcParams['font.sans-serif'] = ['SimHei']  \n",
    "plt.rcParams['axes.unicode_minus'] = False  \n",
    "path = 'C:\\学习\\办公\\研究生课程\\研一第二学期课程\\数据挖掘\\第4周课后作业-3220201014-张鑫\\wine-reviews\\winemag-data_first150k.csv'\n",
    "\n",
    "def draw(data):\n",
    "    num = 10\n",
    "    wine_data = data.values\n",
    "    counter = Counter(wine_data[:, 4])\n",
    "    frequency = counter.most_common()  # 取前n项\n",
    "    num_list = []\n",
    "    name_list = []\n",
    "    for i in range(num):\n",
    "        num_list.append(int(frequency[i][1]))\n",
    "        name_list.append(str(frequency[i][0]))\n",
    "    fig, ax = plt.subplots()\n",
    "    b = ax.bar(name_list, num_list)\n",
    "    plt.bar(range(len(num_list)), num_list, color='red', tick_label=name_list)\n",
    "    for a, b in zip(name_list, num_list):\n",
    "        ax.text(a, b + 1, b, ha='center', va='bottom')\n",
    "    plt.title('最高频率值填补后')\n",
    "    plt.xlabel('price')\n",
    "    plt.ylabel('频数')\n",
    "    plt.show()\n",
    "    \n",
    "wine_data = pd.read_csv(path, header=0, index_col=0, engine='python', encoding='utf-8')\n",
    "wine_data = wine_data.values\n",
    "max_time = []  # 每个属性最大频数的值\n",
    "# 确定每个属性最大频数的值\n",
    "for cl in range(wine_data.shape[1]):\n",
    "    counter = Counter(wine_data[:, cl])\n",
    "    counter = counter.most_common()  # 排序，返回类型为list，list的每个元素为内容和频数\n",
    "    if counter[0][0] == counter[0][0]:  # 如果最大频数不为空值\n",
    "        max_time.append(counter[0][0])\n",
    "    else:  # 如果最大频数为空值\n",
    "        max_time.append(counter[1][0])\n",
    "# 对每个属性的空值进行替换\n",
    "wine_max = pd.DataFrame(wine_data)\n",
    "for cl in range(wine_data.shape[1]):\n",
    "    wine_max[cl] = wine_max[cl].fillna(max_time[cl])\n",
    "print(wine_max.describe())\n",
    "draw(wine_max)"
   ]
  },
  {
   "cell_type": "markdown",
   "metadata": {},
   "source": [
    "##2.3通过属性的相关关系来填补缺失值\n",
    "以price属性为例，通过属性的相关关系来填补缺失值，绘制填补后频数最大的前10项的直方图，可以看到，缺失值填补后的值为33.13，并且频数较大。"
   ]
  },
  {
   "cell_type": "code",
   "execution_count": 2,
   "metadata": {},
   "outputs": [
    {
     "name": "stderr",
     "output_type": "stream",
     "text": [
      "C:\\Users\\zx\\Anaconda3\\lib\\site-packages\\sklearn\\utils\\deprecation.py:66: DeprecationWarning: Class Imputer is deprecated; Imputer was deprecated in version 0.20 and will be removed in 0.22. Import impute.SimpleImputer from sklearn instead.\n",
      "  warnings.warn(msg, category=DeprecationWarning)\n"
     ]
    },
    {
     "data": {
      "image/png": "[encoded data removed]",
      "text/plain": [
       "<Figure size 432x288 with 1 Axes>"
      ]
     },
     "metadata": {
      "needs_background": "light"
     },
     "output_type": "display_data"
    }
   ],
   "source": [
    "import pandas as pd\n",
    "import numpy as np\n",
    "from collections import Counter\n",
    "import matplotlib.pyplot as plt\n",
    "from sklearn.preprocessing import Imputer\n",
    "\n",
    "plt.rcParams['font.sans-serif'] = ['SimHei']  \n",
    "plt.rcParams['axes.unicode_minus'] = False  \n",
    "path = 'C:\\学习\\办公\\研究生课程\\研一第二学期课程\\数据挖掘\\第4周课后作业-3220201014-张鑫\\wine-reviews\\winemag-data_first150k.csv'\n",
    "\n",
    "def draw(data, cl):\n",
    "    num = 10\n",
    "    wine_data = data.values\n",
    "    counter = Counter(wine_data[:, cl])\n",
    "    frequency = counter.most_common()  # 取前n项\n",
    "    num_list = []\n",
    "    name_list = []\n",
    "    for i in range(num):\n",
    "        num_list.append(int(frequency[i][1]))\n",
    "        name_list.append(str(frequency[i][0]))\n",
    "    fig, ax = plt.subplots()\n",
    "    b = ax.bar(name_list, num_list)\n",
    "    plt.bar(range(len(num_list)), num_list, color='red', tick_label=name_list)\n",
    "    for a, b in zip(name_list, num_list):\n",
    "        ax.text(a, b + 1, b, ha='center', va='bottom')\n",
    "    plt.title('填补后')\n",
    "    plt.xlabel('price')\n",
    "    plt.ylabel('频数')\n",
    "    plt.show()\n",
    "\n",
    "# 通过属性的相关关系来填补缺失值\n",
    "def att_rel(path):\n",
    "    wine_data = pd.read_csv(path, header=0, index_col=0, engine='python', encoding='utf-8')\n",
    "    wine_data = wine_data.values\n",
    "    im = Imputer(missing_values='NaN', strategy='mean', axis=0)\n",
    "    att_data = im.fit_transform(wine_data[:, 4].reshape(-1, 1))\n",
    "    draw(pd.DataFrame(att_data), 0)\n",
    "    \n",
    "att_rel(path)"
   ]
  },
  {
   "cell_type": "markdown",
   "metadata": {},
   "source": [
    "##2.4通过数据对象之间的相似性来填补缺失值\n",
    "以price属性为例，通过数据对象之间的相似性来填补缺失值，使用IterativeImputer方法实现，绘制填补后频数最大的前10项的直方图，如下所示。"
   ]
  },
  {
   "cell_type": "code",
   "execution_count": 2,
   "metadata": {},
   "outputs": [
    {
     "data": {
      "image/png": "[encoded data removed]",
      "text/plain": [
       "<Figure size 432x288 with 1 Axes>"
      ]
     },
     "metadata": {},
     "output_type": "display_data"
    }
   ],
   "source": [
    "import pandas as pd\n",
    "import numpy as np\n",
    "from collections import Counter\n",
    "import matplotlib.pyplot as plt\n",
    "from fancyimpute import IterativeImputer\n",
    "\n",
    "plt.rcParams['font.sans-serif'] = ['SimHei']  \n",
    "plt.rcParams['axes.unicode_minus'] = False  \n",
    "path = 'C:\\学习\\办公\\研究生课程\\研一第二学期课程\\数据挖掘\\第4周课后作业-3220201014-张鑫\\wine-reviews\\winemag-data_first150k.csv'\n",
    "\n",
    "def draw(data, cl):\n",
    "    num = 10\n",
    "    wine_data = data.values\n",
    "    counter = Counter(wine_data[:, cl])\n",
    "    frequency = counter.most_common()  # 取前n项\n",
    "    num_list = []\n",
    "    name_list = []\n",
    "    for i in range(num):\n",
    "        num_list.append(int(frequency[i][1]))\n",
    "        name_list.append(str(frequency[i][0]))\n",
    "    fig, ax = plt.subplots()\n",
    "    b = ax.bar(name_list, num_list)\n",
    "    plt.bar(range(len(num_list)), num_list, color='blue', tick_label=name_list)\n",
    "    for a, b in zip(name_list, num_list):\n",
    "        ax.text(a, b + 1, b, ha='center', va='bottom')\n",
    "    plt.title('填补后')\n",
    "    plt.xlabel('price')\n",
    "    plt.ylabel('频数')\n",
    "    plt.show()\n",
    "# 通过数据对象之间的相似性来填补缺失值\n",
    "def obj_sim(path):\n",
    "    wine_data = pd.read_csv(path, header=0, index_col=0, engine='python', encoding='utf-8')\n",
    "    wine_data = wine_data.values\n",
    "    # t = BiScaler().fit_transform(wine_data[:, 4].reshape(-1, 1))\n",
    "    # obj_data = SoftImpute().fit_transform(t)\n",
    "    obj_data = IterativeImputer().fit_transform(wine_data[:, 4].reshape(-1, 1))\n",
    "    draw(pd.DataFrame(obj_data), 0)\n",
    "\n",
    "obj_sim(path)"
   ]
  },
  {
   "cell_type": "markdown",
   "metadata": {},
   "source": [
    "#数据集Oakland Crime Statistics 2011 to 2016"
   ]
  },
  {
   "cell_type": "markdown",
   "metadata": {},
   "source": [
    "#3数据可视化与摘要"
   ]
  },
  {
   "cell_type": "markdown",
   "metadata": {},
   "source": [
    "##3.1数据摘要\n",
    "在数据集Oakland Crime Statistics 2011 to 2016中，有2011年到2016年的数据，每年的数据为一个csv文件，此处我们以2016年的数据为例进行数据预处理。文件名为records-for-2015.csv，共有10个属性，其中标称属性有：Agency、Create Time、Location、Area Id、Beat、Incident Type Id、Incident Type Description、Event Number、Closed Time；数值属性有：Priority。\n",
    "对于标称属性，将每个属性的频数按照从大到小排序，因为每个属性中的类别较多，在此取标称属性频数较大的前5项作为展示。输出如下所示，每列属性的频数统计输出为一个列表，其中列表的每一项为属性对应的值和该值对应的频数，按照频数从大到小排序。从输出中我们可以看到每个属性中频数较高的值，其中有的属性有许多空值。"
   ]
  },
  {
   "cell_type": "code",
   "execution_count": 44,
   "metadata": {},
   "outputs": [
    {
     "name": "stdout",
     "output_type": "stream",
     "text": [
      "属性的值和频数如下所示：\n",
      "[('OP', 110827), (nan, 1)]\n",
      "[('2016-05-06T11:21:13.000', 3), ('2016-01-01T11:56:04.000', 2), ('2016-01-05T15:14:57.000', 2), ('2016-01-06T15:35:57.000', 2), ('2016-01-07T09:35:00.000', 2)]\n",
      "[(' INTERNATIONAL BLVD    ', 2156), (' AV&INTERNATIONAL BLVD    ', 1829), (' MACARTHUR BLVD    ', 1813), (' BROADWAY     ', 1472), (' 7TH ST    ', 1223)]\n",
      "[('P3', 47425), ('P1', 41419), ('P2', 19610), ('POU', 2173), ('PCW', 194)]\n",
      "[('04X', 4515), ('08X', 3931), ('26Y', 3511), ('30Y', 3473), ('19X', 3455)]\n",
      "[(2.0, 86272), (1.0, 24555), (nan, 1)]\n",
      "[('933R', 10094), ('415', 7883), ('SECCK', 7251), ('10851', 5308), ('911H', 5089)]\n",
      "[('ALARM-RINGER', 10094), ('SECURITY CHECK', 7251), ('STOLEN VEHICLE', 5308), ('911 HANG-UP', 5089), ('MENTALLY ILL', 4859)]\n",
      "[('LOP160101000003', 1), ('LOP160101000005', 1), ('LOP160101000008', 1), ('LOP160101000007', 1), ('LOP160101000009', 1)]\n",
      "[('2016-05-29T00:43:38.000', 3), ('2016-01-02T20:07:50.000', 2), ('2016-01-03T00:56:37.000', 2), ('2016-01-03T23:01:41.000', 2), ('2016-01-04T16:09:51.000', 2)]\n"
     ]
    }
   ],
   "source": [
    "import pandas as pd\n",
    "import numpy as np\n",
    "from collections import Counter\n",
    "import matplotlib.pyplot as plt\n",
    "\n",
    "path = 'C:\\学习\\办公\\研究生课程\\研一第二学期课程\\数据挖掘\\第4周课后作业-3220201014-张鑫\\oakland-crime-statistics-2011-to-2016\\records-for-2016.csv'\n",
    "data = pd.read_csv(path, header=0,  engine='python', encoding='utf-8')\n",
    "data = data.values\n",
    "print('属性的值和频数如下所示：')\n",
    "for i in range(data.shape[1]):  # 对所有列进行频数的统计\n",
    "    counter = Counter(data[:, i])\n",
    "    print(counter.most_common(5))  # 取前5项"
   ]
  },
  {
   "cell_type": "markdown",
   "metadata": {},
   "source": [
    "   对于数值属性，Priority的五数概括为1、2、2、2、2，缺失值的个数为0；"
   ]
  },
  {
   "cell_type": "code",
   "execution_count": 23,
   "metadata": {},
   "outputs": [
    {
     "name": "stdout",
     "output_type": "stream",
     "text": [
      "            Priority\n",
      "count  110827.000000\n",
      "mean        1.778438\n",
      "std         0.415299\n",
      "min         1.000000\n",
      "25%         2.000000\n",
      "50%         2.000000\n",
      "75%         2.000000\n",
      "max         2.000000\n"
     ]
    }
   ],
   "source": [
    "import pandas as pd\n",
    "import numpy as np\n",
    "from collections import Counter\n",
    "import matplotlib.pyplot as plt\n",
    "\n",
    "path = 'C:\\学习\\办公\\研究生课程\\研一第二学期课程\\数据挖掘\\第4周课后作业-3220201014-张鑫\\oakland-crime-statistics-2011-to-2016\\records-for-2016.csv'\n",
    "data = pd.read_csv(path, header=0, engine='python', encoding='utf-8')\n",
    "print(data.describe())  # 五数概括、有效个数、平均值等"
   ]
  },
  {
   "cell_type": "markdown",
   "metadata": {},
   "source": [
    "##1.2数据可视化\n",
    "使用直方图进行数据的可视化。因为属性较多，此处我们以属性Area Id和Beat为例进行分析。\n",
    "在直方图中列出了频数较大的值和频数，可以看到，对于属性Area Id，前几个值占据了大部分的数据；对于属性Beat，在所列直方图中每个值对应的频数差距并不大。"
   ]
  },
  {
   "cell_type": "code",
   "execution_count": 26,
   "metadata": {},
   "outputs": [
    {
     "data": {
      "image/png": "[encoded data removed]",
      "text/plain": [
       "<Figure size 432x288 with 1 Axes>"
      ]
     },
     "metadata": {},
     "output_type": "display_data"
    },
    {
     "data": {
      "image/png": "[encoded data removed]",
      "text/plain": [
       "<Figure size 432x288 with 1 Axes>"
      ]
     },
     "metadata": {},
     "output_type": "display_data"
    }
   ],
   "source": [
    "import pandas as pd\n",
    "import numpy as np\n",
    "from collections import Counter\n",
    "import matplotlib.pyplot as plt\n",
    "plt.rcParams['font.sans-serif'] = ['SimHei']  \n",
    "plt.rcParams['axes.unicode_minus'] = False  \n",
    "path = 'C:\\学习\\办公\\研究生课程\\研一第二学期课程\\数据挖掘\\第4周课后作业-3220201014-张鑫\\oakland-crime-statistics-2011-to-2016\\records-for-2016.csv'\n",
    "\n",
    "def draw(data,cl,xlabel):\n",
    "    num = 7\n",
    "    data = data.values\n",
    "    counter = Counter(data[:, cl])\n",
    "    frequency = counter.most_common()  # 取前n项\n",
    "    num_list = []\n",
    "    name_list = []\n",
    "    for i in range(num):\n",
    "        num_list.append(int(frequency[i][1]))\n",
    "        name_list.append(str(frequency[i][0]))\n",
    "    fig, ax = plt.subplots()\n",
    "    b = ax.bar(name_list, num_list)\n",
    "    plt.bar(range(len(num_list)), num_list, color='blue', tick_label=name_list)\n",
    "    for a, b in zip(name_list, num_list):\n",
    "        ax.text(a, b + 1, b, ha='center', va='bottom')\n",
    "    plt.title('补全前')\n",
    "    plt.xlabel(xlabel)\n",
    "    plt.ylabel('频数')\n",
    "    plt.show()\n",
    "data = pd.read_csv(path, header=0, engine='python', encoding='utf-8')\n",
    "draw(data, 3, 'Area Id')\n",
    "draw(data, 4, 'Beat')\n"
   ]
  },
  {
   "cell_type": "markdown",
   "metadata": {},
   "source": [
    "#4数据缺失的处理\n",
    "#4.1剔除缺失值\n",
    "将存在缺失值的行进行剔除，结果如下所示，剔除后仅剩余39241行，说明有大量的数据行中存在缺失值。\n",
    "剔除缺失值后，以属性Area Id的频数的直方图为例，与补全前的相比，可以看到，各个值的频数都有所降低。"
   ]
  },
  {
   "cell_type": "code",
   "execution_count": 38,
   "metadata": {},
   "outputs": [
    {
     "name": "stdout",
     "output_type": "stream",
     "text": [
      "剔除后总数据量：110247\n"
     ]
    },
    {
     "data": {
      "image/png": "[encoded data removed]",
      "text/plain": [
       "<Figure size 432x288 with 1 Axes>"
      ]
     },
     "metadata": {},
     "output_type": "display_data"
    }
   ],
   "source": [
    "import pandas as pd\n",
    "import numpy as np\n",
    "from collections import Counter\n",
    "import matplotlib.pyplot as plt\n",
    "plt.rcParams['font.sans-serif'] = ['SimHei']  \n",
    "plt.rcParams['axes.unicode_minus'] = False  \n",
    "path = 'C:\\学习\\办公\\研究生课程\\研一第二学期课程\\数据挖掘\\第4周课后作业-3220201014-张鑫\\oakland-crime-statistics-2011-to-2016\\records-for-2016.csv'\n",
    "\n",
    "def draw(data,cl,xlabel):\n",
    "    num = 7\n",
    "    data = data.values\n",
    "    counter = Counter(data[:, cl])\n",
    "    frequency = counter.most_common()  # 取前n项\n",
    "    num_list = []\n",
    "    name_list = []\n",
    "    for i in range(num):\n",
    "        num_list.append(int(frequency[i][1]))\n",
    "        name_list.append(str(frequency[i][0]))\n",
    "    fig, ax = plt.subplots()\n",
    "    b = ax.bar(name_list, num_list)\n",
    "    plt.bar(range(len(num_list)), num_list, color='blue', tick_label=name_list)\n",
    "    for a, b in zip(name_list, num_list):\n",
    "        ax.text(a, b + 1, b, ha='center', va='bottom')\n",
    "    plt.title('剔除后')\n",
    "    plt.xlabel(xlabel)\n",
    "    plt.ylabel('频数')\n",
    "    plt.show()\n",
    "data = pd.read_csv(path, header=0,  engine='python', encoding='utf-8')\n",
    "data_drop = data.dropna()  # 将缺失值所在行剔除\n",
    "print('剔除后总数据量：'+str(data_drop.shape[0]))\n",
    "draw(data_drop,3,'Area Id')"
   ]
  },
  {
   "cell_type": "markdown",
   "metadata": {},
   "source": [
    "##4.2最高频率值填补\n",
    "对于存在缺失值的属性，使用该属性中频率最高的值进行填补。\n",
    "该数据集中共有10个属性，首先确定每个属性的频率最高的值。读取数据集，遍历数据集的每个属性，根据属性的值的频数进行排序，最大频数即为最大频率，在遍历过程中，如果频数最高的值为缺失值，那么取下一个频数最高的值。最终将10个属性的最高频率的值存储在列表中。\n",
    "接下来将每个属性的缺失值替换为该属性频率最高的值。\n",
    "补全后以Area Id属性为例可以看到，有效行数为150930行，和数据集中的总行数相同。\n",
    "以最高频率值填补后，以属性Area Id的频数最大的前7项的直方图为例，可以看到，值为P3的频数增加，其他值的频数不变，因为该属性只有一个缺失值。"
   ]
  },
  {
   "cell_type": "code",
   "execution_count": 43,
   "metadata": {},
   "outputs": [
    {
     "name": "stdout",
     "output_type": "stream",
     "text": [
      "                   5\n",
      "count  110828.000000\n",
      "mean        1.778440\n",
      "std         0.415298\n",
      "min         1.000000\n",
      "25%         2.000000\n",
      "50%         2.000000\n",
      "75%         2.000000\n",
      "max         2.000000\n"
     ]
    },
    {
     "data": {
      "image/png": "[encoded data removed]",
      "text/plain": [
       "<Figure size 432x288 with 1 Axes>"
      ]
     },
     "metadata": {},
     "output_type": "display_data"
    }
   ],
   "source": [
    "import pandas as pd\n",
    "import numpy as np\n",
    "from collections import Counter\n",
    "import matplotlib.pyplot as plt\n",
    "plt.rcParams['font.sans-serif'] = ['SimHei']  \n",
    "plt.rcParams['axes.unicode_minus'] = False  \n",
    "path = 'C:\\学习\\办公\\研究生课程\\研一第二学期课程\\数据挖掘\\第4周课后作业-3220201014-张鑫\\oakland-crime-statistics-2011-to-2016\\records-for-2016.csv'\n",
    "\n",
    "def draw(data, cl, xlabel):\n",
    "    num = 7\n",
    "    data = data.values\n",
    "    counter = Counter(data[:, cl])\n",
    "    frequency = counter.most_common()  # 取前n项\n",
    "    num_list = []\n",
    "    name_list = []\n",
    "    for i in range(num):\n",
    "        num_list.append(int(frequency[i][1]))\n",
    "        name_list.append(str(frequency[i][0]))\n",
    "    fig, ax = plt.subplots()\n",
    "    b = ax.bar(name_list, num_list)\n",
    "    plt.bar(range(len(num_list)), num_list, color='blue', tick_label=name_list)\n",
    "    for a, b in zip(name_list, num_list):\n",
    "        ax.text(a, b + 1, b, ha='center', va='bottom')\n",
    "    plt.title('最高频率填补后')\n",
    "    plt.xlabel(xlabel)\n",
    "    plt.ylabel('频数')\n",
    "    plt.show()\n",
    "\n",
    "    \n",
    "data = pd.read_csv(path, header=0, engine='python', encoding='utf-8')\n",
    "data = data.values\n",
    "max_time = []  # 每个属性最大频数的值\n",
    "# 确定每个属性最大频数的值\n",
    "for cl in range(data.shape[1]):\n",
    "    counter = Counter(data[:, cl])\n",
    "    counter = counter.most_common()  # 排序，返回类型为list，list的每个元素为内容和频数\n",
    "    if counter[0][0] == counter[0][0]:  # 如果最大频数不为空值\n",
    "        max_time.append(counter[0][0])\n",
    "    else:  # 如果最大频数为空值\n",
    "        max_time.append(counter[1][0])\n",
    "# 对每个属性的空值进行替换\n",
    "data_max = pd.DataFrame(data)\n",
    "for cl in range(data.shape[1]):\n",
    "    data_max[cl] = data_max[cl].fillna(max_time[cl])\n",
    "print(data_max.describe())\n",
    "draw(data_max,3,'Area Id')"
   ]
  },
  {
   "cell_type": "markdown",
   "metadata": {},
   "source": [
    "##4.3通过属性的相关关系来填补缺失值\n",
    "与2.3节中的内容相同，只是读取的文件名称为records-for-2016.csv。"
   ]
  },
  {
   "cell_type": "markdown",
   "metadata": {},
   "source": [
    "##4.4通过数据对象之间的相似性来填补缺失值\n",
    "与2.4节中的内容相同，只是读取的文件名称为records-for-2016.csv。"
   ]
  }
 ],
 "metadata": {
  "kernelspec": {
   "display_name": "Python 3",
   "language": "python",
   "name": "python3"
  },
  "language_info": {
   "codemirror_mode": {
    "name": "ipython",
    "version": 3
   },
   "file_extension": ".py",
   "mimetype": "text/x-python",
   "name": "python",
   "nbconvert_exporter": "python",
   "pygments_lexer": "ipython3",
   "version": "3.7.4"
  }
 },
 "nbformat": 4,
 "nbformat_minor": 2
}
